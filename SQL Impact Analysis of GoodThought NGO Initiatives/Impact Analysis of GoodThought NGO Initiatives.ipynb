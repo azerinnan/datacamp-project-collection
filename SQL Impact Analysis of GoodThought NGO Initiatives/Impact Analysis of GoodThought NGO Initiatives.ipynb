{
 "cells": [
  {
   "cell_type": "markdown",
   "id": "32803968-253d-4647-9262-8be3fa184271",
   "metadata": {},
   "source": [
    "### Impact Analysis of GoodThought NGO Initiatives \n",
    "\n",
    "![ngo_project_image](ngo_project_image.jpg)\n",
    "\n",
    "GoodThought NGO has been a catalyst for positive change, focusing its efforts on education, healthcare, and sustainable development to make a significant difference in communities worldwide. With this mission, GoodThought has orchestrated an array of assignments aimed at uplifting underprivileged populations and fostering long-term growth.\n",
    "\n",
    "This project offers a hands-on opportunity to explore how data-driven insights can direct and enhance these humanitarian efforts. In this project, you'll engage with the GoodThought PostgreSQL database, which encapsulates detailed records of assignments, funding, impacts, and donor activities from 2010 to 2023. This comprehensive dataset includes:\n",
    "\n",
    "- **`Assignments`:** Details about each project, including its name, duration (start and end dates), budget, geographical region, and the impact score.\n",
    "- **`Donations`:** Records of financial contributions, linked to specific donors and assignments, highlighting how financial support is allocated and utilized.\n",
    "- **`Donors`:** Information on individuals and organizations that fund GoodThought’s projects, including donor types.\n",
    "\n",
    "Refer to the below ERD diagram for a visual representation of the relationships between these data tables:\n",
    "<img src=\"erd.png\" alt=\"ERD\" width=\"50%\" height=\"50%\">\n",
    "\n",
    "\n",
    "You will execute SQL queries to answer two questions, as listed in the instructions. Good luck!\n"
   ]
  },
  {
   "cell_type": "code",
   "execution_count": null,
   "id": "b9c29e39-7d27-4a41-b9f6-553eb2881519",
   "metadata": {
    "customType": "sql",
    "dataFrameVariableName": "highest_donation_assignments",
    "executionCancelledAt": null,
    "executionTime": 1186,
    "lastExecutedAt": 1744789135077,
    "lastExecutedByKernel": "083a54df-9802-4f58-80ce-4eccfdad36c3",
    "lastScheduledRunId": null,
    "lastSuccessfullyExecutedCode": "-- highest_donation_assignments\n\n-- Create CTE to combine the donations and donors tables\nWITH donation_summary AS (\n\tSELECT public.donors.donor_type,\n\t\t\tpublic.donations.assignment_id,\n\t\t\tSUM(public.donations.amount) AS amount2\n\t\tFROM public.donations\n\t\tLEFT JOIN public.donors\n\t\tON public.donations.donor_id = public.donors.donor_id\n\t\tGROUP BY public.donations.assignment_id,public.donors.donor_type\n\t\t\n)\n\nSELECT A.assignment_name,\n\t\tA.region,\n\t\tROUND(D.amount2,2) AS rounded_total_donation_amount,\n\t\tD.donor_type\n\tFROM public.assignments AS A\n\tJOIN donation_summary AS D\n\tON A.assignment_id = D.assignment_id\n\tORDER BY rounded_total_donation_amount DESC\n\tLIMIT 5;\n",
    "outputsMetadata": {
     "0": {
      "height": 550,
      "tableState": {
       "customFilter": {
        "const": {
         "type": "boolean",
         "valid": true,
         "value": true
        },
        "id": "6d0687d3-3c5c-4747-b763-d4e0cfc6f81d",
        "nodeType": "const"
       }
      },
      "type": "dataFrame"
     }
    },
    "sqlCellMode": "dataFrame",
    "sqlSource": {
     "integrationId": "89e17161-a224-4a8a-846b-0adc0fe7a4b1",
     "integrationType": "postgresql",
     "type": "integration"
    }
   },
   "outputs": [
    {
     "data": {
      "application/com.datacamp.data-table.v2+json": {
       "table": {
        "data": {
         "assignment_name": [
          "Assignment_3033",
          "Assignment_300",
          "Assignment_4114",
          "Assignment_1765",
          "Assignment_268"
         ],
         "donor_type": [
          "Individual",
          "Organization",
          "Organization",
          "Organization",
          "Individual"
         ],
         "index": [
          0,
          1,
          2,
          3,
          4
         ],
         "region": [
          "East",
          "West",
          "North",
          "West",
          "East"
         ],
         "rounded_total_donation_amount": [
          3840.66,
          3133.98,
          2778.57,
          2626.98,
          2488.69
         ]
        },
        "schema": {
         "fields": [
          {
           "name": "index",
           "type": "integer"
          },
          {
           "name": "assignment_name",
           "type": "string"
          },
          {
           "name": "region",
           "type": "string"
          },
          {
           "name": "rounded_total_donation_amount",
           "type": "number"
          },
          {
           "name": "donor_type",
           "type": "string"
          }
         ],
         "pandas_version": "1.4.0",
         "primaryKey": [
          "index"
         ]
        }
       },
       "total_rows": 5,
       "truncation_type": null
      },
      "text/html": [
       "<div>\n",
       "<style scoped>\n",
       "    .dataframe tbody tr th:only-of-type {\n",
       "        vertical-align: middle;\n",
       "    }\n",
       "\n",
       "    .dataframe tbody tr th {\n",
       "        vertical-align: top;\n",
       "    }\n",
       "\n",
       "    .dataframe thead th {\n",
       "        text-align: right;\n",
       "    }\n",
       "</style>\n",
       "<table border=\"1\" class=\"dataframe\">\n",
       "  <thead>\n",
       "    <tr style=\"text-align: right;\">\n",
       "      <th></th>\n",
       "      <th>assignment_name</th>\n",
       "      <th>region</th>\n",
       "      <th>rounded_total_donation_amount</th>\n",
       "      <th>donor_type</th>\n",
       "    </tr>\n",
       "  </thead>\n",
       "  <tbody>\n",
       "    <tr>\n",
       "      <th>0</th>\n",
       "      <td>Assignment_3033</td>\n",
       "      <td>East</td>\n",
       "      <td>3840.66</td>\n",
       "      <td>Individual</td>\n",
       "    </tr>\n",
       "    <tr>\n",
       "      <th>1</th>\n",
       "      <td>Assignment_300</td>\n",
       "      <td>West</td>\n",
       "      <td>3133.98</td>\n",
       "      <td>Organization</td>\n",
       "    </tr>\n",
       "    <tr>\n",
       "      <th>2</th>\n",
       "      <td>Assignment_4114</td>\n",
       "      <td>North</td>\n",
       "      <td>2778.57</td>\n",
       "      <td>Organization</td>\n",
       "    </tr>\n",
       "    <tr>\n",
       "      <th>3</th>\n",
       "      <td>Assignment_1765</td>\n",
       "      <td>West</td>\n",
       "      <td>2626.98</td>\n",
       "      <td>Organization</td>\n",
       "    </tr>\n",
       "    <tr>\n",
       "      <th>4</th>\n",
       "      <td>Assignment_268</td>\n",
       "      <td>East</td>\n",
       "      <td>2488.69</td>\n",
       "      <td>Individual</td>\n",
       "    </tr>\n",
       "  </tbody>\n",
       "</table>\n",
       "</div>"
      ],
      "text/plain": [
       "   assignment_name region  rounded_total_donation_amount    donor_type\n",
       "0  Assignment_3033   East                        3840.66    Individual\n",
       "1   Assignment_300   West                        3133.98  Organization\n",
       "2  Assignment_4114  North                        2778.57  Organization\n",
       "3  Assignment_1765   West                        2626.98  Organization\n",
       "4   Assignment_268   East                        2488.69    Individual"
      ]
     },
     "execution_count": 27,
     "metadata": {
      "application/com.datacamp.data-table.v2+json": {
       "status": "success"
      }
     },
     "output_type": "execute_result"
    }
   ],
   "source": [
    "%%sql\n",
    "\n",
    "-- Identify top 5 assignments based on total donation\n",
    "\n",
    "-- Create CTE to combine the donations and donors tables\n",
    "WITH donation_summary AS (\n",
    "\tSELECT public.donors.donor_type,\n",
    "\t\t\tpublic.donations.assignment_id,\n",
    "\t\t\tSUM(public.donations.amount) AS amount2\n",
    "\t\tFROM public.donations\n",
    "\t\tLEFT JOIN public.donors\n",
    "\t\tON public.donations.donor_id = public.donors.donor_id\n",
    "\t\tGROUP BY public.donations.assignment_id,public.donors.donor_type\t\t\n",
    ")\n",
    "\n",
    "SELECT A.assignment_name,\n",
    "\t\tA.region,\n",
    "\t\tROUND(D.amount2,2) AS rounded_total_donation_amount,\n",
    "\t\tD.donor_type\n",
    "\tFROM public.assignments AS A\n",
    "\tJOIN donation_summary AS D\n",
    "\tON A.assignment_id = D.assignment_id\n",
    "\tORDER BY rounded_total_donation_amount DESC\n",
    "\tLIMIT 5;\n"
   ]
  },
  {
   "cell_type": "code",
   "execution_count": null,
   "id": "7ffa5c94-fda1-4b9d-b8f3-a6442b00e423",
   "metadata": {
    "customType": "sql",
    "dataFrameVariableName": "top_regional_impact_assignments",
    "executionCancelledAt": null,
    "executionTime": 1732,
    "lastExecutedAt": 1744789136809,
    "lastExecutedByKernel": "083a54df-9802-4f58-80ce-4eccfdad36c3",
    "lastScheduledRunId": null,
    "lastSuccessfullyExecutedCode": "-- top_regional_impact_assignments\n\n-- Create CTE to combine the donations and donors tables\nWITH donation_summary AS (\n\tSELECT public.donations.assignment_id,\n\t\t\tSUM(public.donations.amount) AS num_total_donations\n\t\tFROM public.donations\n\t\tLEFT JOIN public.donors\n\t\tON public.donations.donor_id = public.donors.donor_id\n\t\tGROUP BY public.donations.assignment_id\n),\n\nassignment_summary AS (\n\tSELECT public.assignments.assignment_id,\n\t\t\tpublic.assignments.assignment_name,\n\t\t\tpublic.assignments.region,\n\t\t\tpublic.assignments.impact_score,\n\t\tROW_NUMBER() OVER (PARTITION BY public.assignments.region ORDER BY public.assignments.impact_score DESC) AS rank\n\tFROM public.assignments\n)\n\nSELECT ASUM.assignment_name, ASUM.region, ASUM.impact_score, DS.num_total_donations\n\tFROM assignment_summary AS ASUM\n\tJOIN donation_summary AS DS\n\tON ASUM.assignment_id = DS.assignment_id\n\tWHERE ASUM.rank = 1\n\tORDER BY region, ASUM.impact_score DESC",
    "outputsMetadata": {
     "0": {
      "height": 550,
      "tableState": {
       "customFilter": {
        "const": {
         "type": "boolean",
         "valid": true,
         "value": true
        },
        "id": "6d0687d3-3c5c-4747-b763-d4e0cfc6f81d",
        "nodeType": "const"
       }
      },
      "type": "dataFrame"
     }
    },
    "sqlCellMode": "dataFrame",
    "sqlSource": {
     "integrationId": "89e17161-a224-4a8a-846b-0adc0fe7a4b1",
     "integrationType": "postgresql",
     "type": "integration"
    }
   },
   "outputs": [
    {
     "data": {
      "application/com.datacamp.data-table.v2+json": {
       "table": {
        "data": {
         "assignment_name": [
          "Assignment_316",
          "Assignment_2253",
          "Assignment_3547",
          "Assignment_3764"
         ],
         "impact_score": [
          10,
          9.99,
          10,
          9.99
         ],
         "index": [
          0,
          1,
          2,
          3
         ],
         "num_total_donations": [
          530.81,
          872.03,
          880.15,
          716.72
         ],
         "region": [
          "East",
          "North",
          "South",
          "West"
         ]
        },
        "schema": {
         "fields": [
          {
           "name": "index",
           "type": "integer"
          },
          {
           "name": "assignment_name",
           "type": "string"
          },
          {
           "name": "region",
           "type": "string"
          },
          {
           "name": "impact_score",
           "type": "number"
          },
          {
           "name": "num_total_donations",
           "type": "number"
          }
         ],
         "pandas_version": "1.4.0",
         "primaryKey": [
          "index"
         ]
        }
       },
       "total_rows": 4,
       "truncation_type": null
      },
      "text/html": [
       "<div>\n",
       "<style scoped>\n",
       "    .dataframe tbody tr th:only-of-type {\n",
       "        vertical-align: middle;\n",
       "    }\n",
       "\n",
       "    .dataframe tbody tr th {\n",
       "        vertical-align: top;\n",
       "    }\n",
       "\n",
       "    .dataframe thead th {\n",
       "        text-align: right;\n",
       "    }\n",
       "</style>\n",
       "<table border=\"1\" class=\"dataframe\">\n",
       "  <thead>\n",
       "    <tr style=\"text-align: right;\">\n",
       "      <th></th>\n",
       "      <th>assignment_name</th>\n",
       "      <th>region</th>\n",
       "      <th>impact_score</th>\n",
       "      <th>num_total_donations</th>\n",
       "    </tr>\n",
       "  </thead>\n",
       "  <tbody>\n",
       "    <tr>\n",
       "      <th>0</th>\n",
       "      <td>Assignment_316</td>\n",
       "      <td>East</td>\n",
       "      <td>10.00</td>\n",
       "      <td>530.81</td>\n",
       "    </tr>\n",
       "    <tr>\n",
       "      <th>1</th>\n",
       "      <td>Assignment_2253</td>\n",
       "      <td>North</td>\n",
       "      <td>9.99</td>\n",
       "      <td>872.03</td>\n",
       "    </tr>\n",
       "    <tr>\n",
       "      <th>2</th>\n",
       "      <td>Assignment_3547</td>\n",
       "      <td>South</td>\n",
       "      <td>10.00</td>\n",
       "      <td>880.15</td>\n",
       "    </tr>\n",
       "    <tr>\n",
       "      <th>3</th>\n",
       "      <td>Assignment_3764</td>\n",
       "      <td>West</td>\n",
       "      <td>9.99</td>\n",
       "      <td>716.72</td>\n",
       "    </tr>\n",
       "  </tbody>\n",
       "</table>\n",
       "</div>"
      ],
      "text/plain": [
       "   assignment_name region  impact_score  num_total_donations\n",
       "0   Assignment_316   East         10.00               530.81\n",
       "1  Assignment_2253  North          9.99               872.03\n",
       "2  Assignment_3547  South         10.00               880.15\n",
       "3  Assignment_3764   West          9.99               716.72"
      ]
     },
     "execution_count": 28,
     "metadata": {
      "application/com.datacamp.data-table.v2+json": {
       "status": "success"
      }
     },
     "output_type": "execute_result"
    }
   ],
   "source": [
    "%%sql\n",
    "\n",
    "-- Determine the highest impact score of assignment in each region\n",
    "\n",
    "-- Create CTE to combine the donations and donors tables\n",
    "WITH donation_summary AS (\n",
    "\tSELECT public.donations.assignment_id,\n",
    "\t\t\tSUM(public.donations.amount) AS num_total_donations\n",
    "\t\tFROM public.donations\n",
    "\t\tLEFT JOIN public.donors\n",
    "\t\tON public.donations.donor_id = public.donors.donor_id\n",
    "\t\tGROUP BY public.donations.assignment_id\n",
    "),\n",
    "\n",
    "assignment_summary AS (\n",
    "\tSELECT public.assignments.assignment_id,\n",
    "\t\t\tpublic.assignments.assignment_name,\n",
    "\t\t\tpublic.assignments.region,\n",
    "\t\t\tpublic.assignments.impact_score,\n",
    "\t\tROW_NUMBER() OVER (PARTITION BY public.assignments.region ORDER BY public.assignments.impact_score DESC) AS rank\n",
    "\tFROM public.assignments\n",
    ")\n",
    "\n",
    "SELECT ASUM.assignment_name, ASUM.region, ASUM.impact_score, DS.num_total_donations\n",
    "\tFROM assignment_summary AS ASUM\n",
    "\tJOIN donation_summary AS DS\n",
    "\tON ASUM.assignment_id = DS.assignment_id\n",
    "\tWHERE ASUM.rank = 1\n",
    "\tORDER BY region, ASUM.impact_score DESC"
   ]
  },
  {
   "cell_type": "markdown",
   "id": "7ab9f84c",
   "metadata": {},
   "source": []
  }
 ],
 "metadata": {
  "colab": {
   "name": "Welcome to DataCamp Workspaces.ipynb",
   "provenance": []
  },
  "kernelspec": {
   "display_name": "Python 3 (ipykernel)",
   "language": "python",
   "name": "python3"
  },
  "language_info": {
   "codemirror_mode": {
    "name": "ipython",
    "version": 3
   },
   "file_extension": ".py",
   "mimetype": "text/x-python",
   "name": "python",
   "nbconvert_exporter": "python",
   "pygments_lexer": "ipython3",
   "version": "3.8.10"
  }
 },
 "nbformat": 4,
 "nbformat_minor": 5
}
